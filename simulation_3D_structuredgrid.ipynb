{
 "cells": [
  {
   "cell_type": "markdown",
   "id": "3393fe75",
   "metadata": {},
   "source": [
    "# 🔧 Simulation 3D du champ de pression acoustique (StructuredGrid)"
   ]
  },
  {
   "cell_type": "code",
   "execution_count": null,
   "id": "b51543f8",
   "metadata": {},
   "outputs": [],
   "source": [
    "\n",
    "# 🧩 Installation si nécessaire\n",
    "try:\n",
    "    import pyvista as pv\n",
    "except ImportError:\n",
    "    !pip install -q pyvista\n",
    "    import pyvista as pv\n",
    "\n",
    "import numpy as np\n",
    "pv.set_jupyter_backend(\"static\")\n"
   ]
  },
  {
   "cell_type": "code",
   "execution_count": null,
   "id": "e28a413c",
   "metadata": {},
   "outputs": [],
   "source": [
    "\n",
    "# ⚙️ Paramètres\n",
    "N = 60\n",
    "L = 200  # mm\n",
    "X = np.linspace(0, L, N)\n",
    "Y = np.linspace(0, L, N)\n",
    "Z = np.linspace(0, L, N)\n",
    "AMPL = 5.0\n",
    "WAVE_SPEED = 343000.0\n",
    "FREQ = 40000.0\n",
    "K = 2 * np.pi * FREQ / WAVE_SPEED\n",
    "\n",
    "# 🎯 Point de focalisation\n",
    "fx, fy, fz = L / 2, L / 2, L / 2\n",
    "\n",
    "# 🔊 Transducteurs (5×5 haut et bas)\n",
    "transducers = []\n",
    "for i in range(5):\n",
    "    for j in range(5):\n",
    "        x = fx + (i - 2) * 20\n",
    "        y = fy + (j - 2) * 20\n",
    "        for z in [0, L]:\n",
    "            r = np.sqrt((x - fx)**2 + (y - fy)**2 + (z - fz)**2)\n",
    "            phase = -K * r\n",
    "            transducers.append((x, y, z, phase))\n"
   ]
  },
  {
   "cell_type": "code",
   "execution_count": null,
   "id": "a27adcc9",
   "metadata": {},
   "outputs": [],
   "source": [
    "\n",
    "# 🧮 Calcul du champ de pression\n",
    "volume = np.zeros((N, N, N), dtype=np.float32)\n",
    "for ix, x in enumerate(X):\n",
    "    for iy, y in enumerate(Y):\n",
    "        for iz, z in enumerate(Z):\n",
    "            p = 0\n",
    "            for tx, ty, tz, ph in transducers:\n",
    "                r = np.sqrt((x - tx)**2 + (y - ty)**2 + (z - tz)**2) + 0.1\n",
    "                p += AMPL * np.sin(K * r + ph) / r\n",
    "            volume[ix, iy, iz] = abs(p)\n",
    "volume /= np.max(volume)\n"
   ]
  },
  {
   "cell_type": "code",
   "execution_count": null,
   "id": "fd91d045",
   "metadata": {},
   "outputs": [],
   "source": [
    "\n",
    "# 🧊 Création du StructuredGrid\n",
    "from pyvista import StructuredGrid\n",
    "\n",
    "xx, yy, zz = np.meshgrid(X, Y, Z, indexing=\"ij\")\n",
    "grid = StructuredGrid(xx, yy, zz)\n",
    "grid[\"pressure\"] = volume.flatten(order=\"F\")\n"
   ]
  },
  {
   "cell_type": "code",
   "execution_count": null,
   "id": "8163a495",
   "metadata": {},
   "outputs": [],
   "source": [
    "\n",
    "# 🎨 Visualisation avec transparence et couleur\n",
    "plotter = pv.Plotter()\n",
    "opacity = [0.0, 0.01, 0.05, 0.1, 0.2, 0.4, 0.6, 0.9, 1.0]\n",
    "plotter.add_volume(grid, scalars=\"pressure\", cmap=\"coolwarm\", opacity=opacity, shade=True)\n",
    "plotter.add_axes()\n",
    "plotter.show_grid()\n",
    "plotter.show()\n"
   ]
  }
 ],
 "metadata": {},
 "nbformat": 4,
 "nbformat_minor": 5
}
